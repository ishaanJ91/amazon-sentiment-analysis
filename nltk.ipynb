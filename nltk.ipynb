{
 "cells": [
  {
   "cell_type": "code",
   "execution_count": null,
   "id": "0",
   "metadata": {
    "colab": {
     "base_uri": "https://localhost:8080/"
    },
    "id": "2f4b3ea1",
    "outputId": "03a650ff-ff8b-4721-bf43-165c7cda4bae"
   },
   "outputs": [],
   "source": [
    "import pandas as pd\n",
    "import numpy as np\n",
    "import seaborn as sns\n",
    "import matplotlib.pyplot as plt\n",
    "import nltk\n",
    "\n",
    "\n",
    "nltk.download('punkt_tab')\n",
    "nltk.download('vader_lexicon')\n",
    "nltk.download('averaged_perceptron_tagger_eng')\n",
    "nltk.download('maxent_ne_chunker_tab')\n",
    "nltk.download('words')\n",
    "nltk.download('stopwords')\n",
    "nltk.download('wordnet')"
   ]
  },
  {
   "cell_type": "code",
   "execution_count": null,
   "id": "1",
   "metadata": {
    "id": "97daece6"
   },
   "outputs": [],
   "source": [
    "# Read the data\n",
    "df = pd.read_csv('AmazonReviews/Reviews.csv')"
   ]
  },
  {
   "cell_type": "code",
   "execution_count": null,
   "id": "2",
   "metadata": {
    "colab": {
     "base_uri": "https://localhost:8080/"
    },
    "id": "3603deb8",
    "outputId": "02076cbb-5d95-469d-eaea-180d9932c2c8"
   },
   "outputs": [],
   "source": [
    "df.head()\n",
    "print(df.shape)\n",
    "df = df.head(500)\n",
    "print(df.shape)"
   ]
  },
  {
   "cell_type": "markdown",
   "id": "3",
   "metadata": {
    "id": "b60ddd65"
   },
   "source": [
    "## Quick EDA"
   ]
  },
  {
   "cell_type": "code",
   "execution_count": null,
   "id": "4",
   "metadata": {
    "colab": {
     "base_uri": "https://localhost:8080/",
     "height": 482
    },
    "id": "5155cb49",
    "outputId": "2d6a6151-d383-4088-fff4-d15dbb497f9e"
   },
   "outputs": [],
   "source": [
    "ax = df['Score'].value_counts().sort_index() \\\n",
    "    .plot(kind='bar', title='Count of Reviews by Score', figsize=(10, 5))\n",
    "ax.set_xlabel('Review Stars')\n",
    "plt.show()"
   ]
  },
  {
   "cell_type": "markdown",
   "id": "5",
   "metadata": {
    "id": "52baa9ca"
   },
   "source": [
    "## Basic NLTK"
   ]
  },
  {
   "cell_type": "code",
   "execution_count": null,
   "id": "6",
   "metadata": {
    "colab": {
     "base_uri": "https://localhost:8080/"
    },
    "id": "1278fcf9",
    "outputId": "240dad19-3eb8-4f9b-d988-091937f60001"
   },
   "outputs": [],
   "source": [
    "example = df['Text'][50]\n",
    "print(example)"
   ]
  },
  {
   "cell_type": "code",
   "execution_count": null,
   "id": "7",
   "metadata": {
    "colab": {
     "base_uri": "https://localhost:8080/"
    },
    "id": "af3ef7bf",
    "outputId": "03864ddf-61f3-4445-b291-f5aadb3a0a8a"
   },
   "outputs": [],
   "source": [
    "tokens = nltk.word_tokenize(example)\n",
    "print(tokens)"
   ]
  },
  {
   "cell_type": "code",
   "execution_count": null,
   "id": "8",
   "metadata": {
    "colab": {
     "base_uri": "https://localhost:8080/"
    },
    "id": "b5dbd6ff",
    "outputId": "b43b39d5-2549-40f2-d3d9-c833e31c90ab"
   },
   "outputs": [],
   "source": [
    "tagged = nltk.pos_tag(tokens)\n",
    "print(tagged)"
   ]
  },
  {
   "cell_type": "code",
   "execution_count": null,
   "id": "9",
   "metadata": {
    "colab": {
     "base_uri": "https://localhost:8080/"
    },
    "id": "46d7cdb4",
    "outputId": "34962522-16bf-4f27-b81f-a7d23b94cd31"
   },
   "outputs": [],
   "source": [
    "entities = nltk.chunk.ne_chunk(tagged)\n",
    "entities.pprint()"
   ]
  },
  {
   "cell_type": "markdown",
   "id": "10",
   "metadata": {
    "id": "73d1669c"
   },
   "source": [
    "## VADER Sentiment Scoring"
   ]
  },
  {
   "cell_type": "code",
   "execution_count": null,
   "id": "11",
   "metadata": {
    "id": "XOxSGNc_jmkN"
   },
   "outputs": [],
   "source": [
    "from nltk.sentiment import SentimentIntensityAnalyzer\n",
    "from tqdm.notebook import tqdm\n",
    "\n",
    "sia = SentimentIntensityAnalyzer()"
   ]
  },
  {
   "cell_type": "code",
   "execution_count": null,
   "id": "12",
   "metadata": {
    "colab": {
     "base_uri": "https://localhost:8080/"
    },
    "id": "6O6IqyDLlB_S",
    "outputId": "a1d2dab2-9197-4880-93f3-d1507de0eb28"
   },
   "outputs": [],
   "source": [
    "sia.polarity_scores(example)"
   ]
  },
  {
   "cell_type": "code",
   "execution_count": null,
   "id": "13",
   "metadata": {
    "colab": {
     "base_uri": "https://localhost:8080/",
     "height": 49,
     "referenced_widgets": [
      "b32a089cc7f746519972a14b31fc69a3",
      "adbf35bb109c49e9b67813af4346a552",
      "f946399e40a34d9b8a4845c8a686af51",
      "97701f8e37944104a11b7e9392b5646e",
      "7c3a5da229354a0da234ad7a61b110d0",
      "8b4d4bbe156b47a5981658d7ea44c18f",
      "add2439054ce40f9b3f5cf2060caa7c0",
      "39535d8de7234b28a41a42ded53398ba",
      "f7bef9467dd147fbb0d48e46f7181936",
      "b1d2a71f1863463da98c372caa846bf8",
      "89dd3f03be3249db9b7447a162603197"
     ]
    },
    "id": "QkxTCj4xlEPr",
    "outputId": "d23e8e67-0be2-44fe-b671-5386e671850c"
   },
   "outputs": [],
   "source": [
    "# Run the polarity score on the entire dataset\n",
    "res = {}\n",
    "for i, row in tqdm(df.iterrows(), total=len(df)):\n",
    "    text = row[\"Text\"]\n",
    "    myId = row[\"Id\"]\n",
    "    res[myId] = sia.polarity_scores(text)"
   ]
  },
  {
   "cell_type": "code",
   "execution_count": null,
   "id": "14",
   "metadata": {
    "colab": {
     "base_uri": "https://localhost:8080/"
    },
    "id": "ZsDoF138lEpa",
    "outputId": "666ea78e-3354-4f85-c2e3-fd41fbdc8652"
   },
   "outputs": [],
   "source": [
    "res"
   ]
  },
  {
   "cell_type": "code",
   "execution_count": null,
   "id": "15",
   "metadata": {
    "id": "LUsmfw5MljaX"
   },
   "outputs": [],
   "source": [
    "vaders = pd.DataFrame(res).T\n",
    "vaders = vaders.reset_index().rename(columns = {'index':'Id'})\n",
    "vaders = vaders.merge(df, how='left')"
   ]
  },
  {
   "cell_type": "code",
   "execution_count": null,
   "id": "16",
   "metadata": {
    "colab": {
     "base_uri": "https://localhost:8080/",
     "height": 695
    },
    "id": "8Z3XfhnulqHP",
    "outputId": "71c210a3-d44d-4b18-dfcd-73b110968523"
   },
   "outputs": [],
   "source": [
    "# Now we have sentiment score and metadata\n",
    "vaders.head()"
   ]
  },
  {
   "cell_type": "code",
   "execution_count": null,
   "id": "17",
   "metadata": {
    "colab": {
     "base_uri": "https://localhost:8080/",
     "height": 472
    },
    "id": "Or-xkjqmmyKJ",
    "outputId": "61cb91a3-877c-4cad-9b98-a8493e27cd29"
   },
   "outputs": [],
   "source": [
    "# Plot Vader result\n",
    "ax = sns.barplot(data=vaders, x='Score', y='compound')\n",
    "ax.set_title('Compound Score by Amazon Star Review')\n",
    "plt.show()"
   ]
  },
  {
   "cell_type": "code",
   "execution_count": null,
   "id": "18",
   "metadata": {
    "colab": {
     "base_uri": "https://localhost:8080/",
     "height": 335
    },
    "id": "IJcTFzuXm-O9",
    "outputId": "0d2dbc16-672f-4f89-854e-4f1353995016"
   },
   "outputs": [],
   "source": [
    "fig, axs = plt.subplots(1,3, figsize=(15,5))\n",
    "sns.barplot(data=vaders, x='Score', y='pos', ax=axs[0])\n",
    "sns.barplot(data=vaders, x='Score', y='neu', ax=axs[1])\n",
    "sns.barplot(data=vaders, x='Score', y='neg', ax=axs[2])\n",
    "axs[0].set_title('Positive')\n",
    "axs[0].set_title('Neutral')\n",
    "axs[0].set_title('Negative')\n",
    "plt.show()"
   ]
  },
  {
   "cell_type": "markdown",
   "id": "19",
   "metadata": {
    "id": "0ZVBi3YJo67N"
   },
   "source": [
    "## Roberta Pretrained Model\n",
    "\n",
    "\n",
    "\n",
    "*   Use a model trained of a largue corpus model\n",
    "*   Transoformer model accounts for the words but also the context related to other words\n",
    "\n"
   ]
  },
  {
   "cell_type": "code",
   "execution_count": null,
   "id": "20",
   "metadata": {
    "id": "aTEbHMwAn_ba"
   },
   "outputs": [],
   "source": [
    "from transformers import AutoTokenizer\n",
    "from transformers import AutoModelForSequenceClassification\n",
    "from scipy.special import softmax"
   ]
  },
  {
   "cell_type": "code",
   "execution_count": null,
   "id": "21",
   "metadata": {
    "colab": {
     "base_uri": "https://localhost:8080/",
     "height": 336,
     "referenced_widgets": [
      "7ddb67009ae940fc951d0d80fe383c2e",
      "e1e284a27df64ad0ba1c30b552b930e0",
      "e4d655b5a889483994521cda1bb61468",
      "5c3c12c8ccad4bee8d7507c1e64ba264",
      "737ff0d8f3f0453684f5ec31d30a60f1",
      "6ad824a5d2fb474b9e5b1d8737c23a4e",
      "87260c9020e84499b0f9a38aaeca1836",
      "5047c3b55cb4407882d1788ed41ba2f6",
      "b375b2018f244d7097dcb39ba499c083",
      "963bfbec654946d89d099d9ea79dfc12",
      "05b34610a1714263ad4967edea6bb4fc",
      "75fcb8f200c7421f93b2a9fc3a43b12e",
      "0542a207213c4dfd98bd4ff7ebb03c82",
      "f97d70811c0940bdb722acc871b44190",
      "dd8f5fccc8c6448e8f6b167088cec1ad",
      "a2baab6b285e4745bb1bf1dbb0199929",
      "c71d7e65958a48598e896394f6ee4ca9",
      "0ded7f7997c949d3a2a88189ba30c856",
      "1a9f59aab75d441294d77861b22e4677",
      "573c9361e2e342328cfd85053cba1cd0",
      "3136660322424e78a358871cc62c23ea",
      "f20c05815a9e404ba8b36a00bc7ecbb9",
      "73e01b04c154440e81ee100fd401dce8",
      "3cd100a9d3554deb93491000f0b68844",
      "1736b4cc23d942178ad33a880b7e8e26",
      "27256181556e4690937df59fc544b368",
      "8e75b12961494edc863b3437851b99ce",
      "278a248adb4a4020b13378a7fba87f8d",
      "369909068181401d90323ce3a3e11af7",
      "371b583d50fb405989826042700052a0",
      "532020a908e849559e1beda8c2e36bf4",
      "367a7a4eec934d67baa0cd709bf94ece",
      "eada07abe4d64009819df449f40ede02",
      "d44212eedafe4d19b5991c583c7821e3",
      "775eaea2642c410f8c7b2adc9fd4157f",
      "09719fd463914acebab80a2fae37c330",
      "6e31e838999b4efd83694ac815409583",
      "6cd72bd44948451c92dc5aaee571fe63",
      "55be252a97584b54b320c79e294a3b4c",
      "4784a7f8772c4105ae3c0c559b35fc3b",
      "cdea1ef072eb45a8b12e6ff1905dd9ca",
      "3b6f5c199bbe400c8ec738536ff7fec5",
      "85c96bc49cef49eabf31345832ef7732",
      "444117c882f44c0eaecb20f1434967e5",
      "cffdf733ae264a61afd70fa5396c24ec",
      "5e223ff5754440edb852fb17ef25e65f",
      "a543f18119fe4b559429e60a76c65e3c",
      "7731057a074d4015bbb23531abfa80e1",
      "fcd870f324344bae8c0a61c31b2b72df",
      "5fa71a83fa404632b8ab81481c9071fd",
      "b97b80ce3dc247d6843c61e3cd6d8223",
      "dd47f573be774e0497e3bd93cb9342d6",
      "377a00324c6c4f8a9b3fbfa6801b8534",
      "5c6274807e0f400898e686a96e1ea2d9",
      "08dfb0f8cdcb408cb99fae01b52f4a8a",
      "6d227beadce343809e21ec10f40a4ce1",
      "90aa1fe7f25948989dd44beace3f7ee9",
      "6b976d8a93a64b98bb5e48530a991216",
      "dad322f2c3524c0bb606a4a19ddcde8e",
      "4bb26672e7e14ce1b93d24f67dd7f90c",
      "84d777dd589e4658aed6c5aa9bfe293d",
      "481eca86571b4c99a821f4efd7cf33ba",
      "f3d8b531a10f4ef386aebb0ec7778b15",
      "98f7aff34baf4cd9ba6b11e269081dfc",
      "abfc58060d8b41969b29c29eb8175844",
      "93212acd8f2b488ca45f817687c541ff"
     ]
    },
    "id": "HW42ql1F02eS",
    "outputId": "5b187c9b-61f4-45de-f86b-689c73a9b01f"
   },
   "outputs": [],
   "source": [
    "MODEL = f\"cardiffnlp/twitter-roberta-base-sentiment\"\n",
    "tokenizer = AutoTokenizer.from_pretrained(MODEL)\n",
    "model = AutoModelForSequenceClassification.from_pretrained(MODEL)"
   ]
  },
  {
   "cell_type": "code",
   "execution_count": null,
   "id": "22",
   "metadata": {
    "colab": {
     "base_uri": "https://localhost:8080/"
    },
    "id": "kHX1uPic1aCX",
    "outputId": "fb1f216c-5db0-4185-9a7a-8420c2a35f4e"
   },
   "outputs": [],
   "source": [
    "# VADE results on example\n",
    "print(example)\n",
    "sia.polarity_scores(example)"
   ]
  },
  {
   "cell_type": "code",
   "execution_count": null,
   "id": "23",
   "metadata": {
    "colab": {
     "base_uri": "https://localhost:8080/",
     "height": 55
    },
    "id": "DqFrNwZn1hzD",
    "outputId": "47174b67-09ef-4cf1-b370-be67b2a0b16c"
   },
   "outputs": [],
   "source": [
    "# Run for Roberta Model\n",
    "encoded_text = tokenizer(example, return_tensors='pt')\n",
    "output = model(**encoded_text)\n",
    "scores = output[0][0].detach().numpy()\n",
    "scores = softmax(scores)\n",
    "scores_dict = {\n",
    "    'roberta_neg' : scores[0],\n",
    "    'roberta_neu' : scores[1],\n",
    "    'roberta_pos' : scores[2]\n",
    "}\n",
    "print(scores_dict)"
   ]
  },
  {
   "cell_type": "code",
   "execution_count": null,
   "id": "24",
   "metadata": {
    "id": "lqDqOegd4YQS"
   },
   "outputs": [],
   "source": [
    "def polarity_scores_roberta(example):\n",
    "  encoded_text = tokenizer(example, return_tensors='pt')\n",
    "  output = model(**encoded_text)\n",
    "  scores = output[0][0].detach().numpy()\n",
    "  scores = softmax(scores)\n",
    "  scores_dict = {\n",
    "      'roberta_neg' : scores[0],\n",
    "      'roberta_neu' : scores[1],\n",
    "      'roberta_pos' : scores[2]\n",
    "  }\n",
    "\n",
    "  return scores_dict"
   ]
  },
  {
   "cell_type": "code",
   "execution_count": null,
   "id": "25",
   "metadata": {
    "colab": {
     "base_uri": "https://localhost:8080/",
     "height": 85,
     "referenced_widgets": [
      "354db4836b5842beb3c7c3e7c8976049",
      "ba0c46c1e83f4128963dfc6809f7a1fc",
      "157226715cde4323827d4de2a04384cd",
      "72321b1d12c24539a79e772b0bba2609",
      "dfa6c5b1ab4949a187f46e1dacc6566d",
      "a0cd57977bb04c53af845d57580cbb18",
      "6816b6749b6747d9bb6b46f5c0b8b920",
      "830c3843d08342b49dd0e6b5ba3805fd",
      "b5e94a1096c64fdbb995ecfab6d62168",
      "2888ce068cba48818275e54055edd118",
      "c3d2fa3d978c4ecc82577ef01cfb9324"
     ]
    },
    "id": "gE6fJkWP5JK9",
    "outputId": "2df42e2a-ace6-4ae5-a33f-700127bdbc30"
   },
   "outputs": [],
   "source": [
    "# Run the Roberta Model on the entire dataset\n",
    "res = {}\n",
    "for i, row in tqdm(df.iterrows(), total=len(df)):\n",
    "    try:\n",
    "      text = row[\"Text\"]\n",
    "      myId = row[\"Id\"]\n",
    "\n",
    "      vader_result = sia.polarity_scores(text)\n",
    "      vader_result_rename = {}\n",
    "      for key, value in vader_result.items():\n",
    "        vader_result_rename[f\"vader_{key}\"] = value\n",
    "\n",
    "      roberta_result = polarity_scores_roberta(text)\n",
    "      both = {**vader_result_rename, **roberta_result}\n",
    "\n",
    "      res[myId] = both\n",
    "    except RuntimeError:\n",
    "      print(\"Broke for id\")"
   ]
  },
  {
   "cell_type": "code",
   "execution_count": null,
   "id": "26",
   "metadata": {
    "id": "GHkiJLCI5UhO"
   },
   "outputs": [],
   "source": [
    "results_df = pd.DataFrame(res).T\n",
    "results_df = results_df.reset_index().rename(columns = {'index':'Id'})\n",
    "results_df = results_df.merge(df, how='left')"
   ]
  },
  {
   "cell_type": "markdown",
   "id": "27",
   "metadata": {
    "id": "fpxLxIpc6Z8V"
   },
   "source": [
    "## Compare Scores between Models"
   ]
  },
  {
   "cell_type": "code",
   "execution_count": null,
   "id": "28",
   "metadata": {
    "colab": {
     "base_uri": "https://localhost:8080/"
    },
    "id": "NVmm5MGG6cUi",
    "outputId": "b651a25b-021e-4cb2-bd0e-99a44059df9a"
   },
   "outputs": [],
   "source": [
    "results_df.columns"
   ]
  },
  {
   "cell_type": "code",
   "execution_count": null,
   "id": "29",
   "metadata": {
    "colab": {
     "base_uri": "https://localhost:8080/",
     "height": 814
    },
    "id": "5ndXiOIL5vNi",
    "outputId": "20779e8c-a98c-4fa1-e3e6-2768e9753323"
   },
   "outputs": [],
   "source": [
    "sns.pairplot(data=results_df, vars=['vader_neg', 'vader_neu', 'vader_pos',\n",
    "       'roberta_neg', 'roberta_neu', 'roberta_pos'], hue='Score', palette='tab10')\n",
    "plt.show()"
   ]
  },
  {
   "cell_type": "markdown",
   "id": "30",
   "metadata": {
    "id": "AqYgYB7x7nWu"
   },
   "source": [
    "## Review Examples"
   ]
  },
  {
   "cell_type": "code",
   "execution_count": null,
   "id": "31",
   "metadata": {
    "colab": {
     "base_uri": "https://localhost:8080/",
     "height": 53
    },
    "id": "wGtG8-5l8oZJ",
    "outputId": "86c233ee-fb9e-4af2-a674-8c9e282e321e"
   },
   "outputs": [],
   "source": [
    "results_df.query('Score == 1').sort_values('roberta_pos', ascending=False)['Text'].values[0]"
   ]
  },
  {
   "cell_type": "code",
   "execution_count": null,
   "id": "32",
   "metadata": {
    "colab": {
     "base_uri": "https://localhost:8080/",
     "height": 35
    },
    "id": "jP8phkTh-aln",
    "outputId": "15547401-1b9a-4825-8245-58732b4845c1"
   },
   "outputs": [],
   "source": [
    "results_df.query('Score == 1').sort_values('vader_pos', ascending=False)['Text'].values[0]"
   ]
  },
  {
   "cell_type": "code",
   "execution_count": null,
   "id": "33",
   "metadata": {
    "colab": {
     "base_uri": "https://localhost:8080/",
     "height": 53
    },
    "id": "p-IAAExM-l-2",
    "outputId": "f4dc9481-2efa-4bd9-afda-d4419a84820d"
   },
   "outputs": [],
   "source": [
    "# Negative sentiment but positive review\n",
    "results_df.query('Score == 5').sort_values('roberta_pos', ascending=False)['Text'].values[0]"
   ]
  },
  {
   "cell_type": "markdown",
   "id": "34",
   "metadata": {
    "id": "aLK4Y5Xp-6kT"
   },
   "source": [
    "## The Transformer Pipeline"
   ]
  },
  {
   "cell_type": "code",
   "execution_count": null,
   "id": "35",
   "metadata": {
    "colab": {
     "base_uri": "https://localhost:8080/",
     "height": 219,
     "referenced_widgets": [
      "d197e140beca431d9fc370f8d8767b2e",
      "05fa6ba0a4a94a6993a21a80900b1ad6",
      "22d5724e8cb048f9aa6508d17141621e",
      "b1b558da08ec48c089d4c7ac5f6e9269",
      "6024b5d73dd6405eac1a39574e836825",
      "867f8528018247b2a682265502261cdc",
      "77cd3b7b282f4533b207094a43020238",
      "0d4583e9ba324fd3aace94615f381b36",
      "6b6eb708c4d7455682978f974be6ca06",
      "960a87b9daa84a95a3e1dc98bb75c30c",
      "006029aa24bf40b4a4c61302051ebb48",
      "3eca1d165b4743edb35748664c208275",
      "83e6829589764b458b29c3b203b7c53c",
      "5d7090e6db4d46acbc72b758e5dce9f8",
      "e5ef1d6a8f3946db999760681691537a",
      "c97fa40479984cd89c3de45c8316cfa7",
      "519ffb92496440bea83b71553cf9f0f7",
      "8f086cfcdd3d48b8b37320b7d27bae5a",
      "344eb5ec5e464869b0dbe517e0be2e96",
      "365bc913796f45a6817006138f7e1ba3",
      "6617184bf76446c5ade158fa506c1375",
      "c2069cb5590d4a1091532b9aee107fe9",
      "71476c9ed4fc48719edb2f8c96eb08d5",
      "7cee36d20d354520a074ffc9f3dab48d",
      "0524b8e5851945acb3225e7708ef8ac7",
      "e32413401f9040f686c869bb726962bf",
      "6d95b9e81eb64dbba1fbde405edf5d7d",
      "5b950d8c48ce4e71a5b6dcea327b14c3",
      "975312ccab22462c8f109553e75f7eba",
      "5ede99b392b842f1ad518f089ae8ed7f",
      "9f07039536ea42fbb214705cb8aa3dc1",
      "9e11289fb52447b4b2fbbeb6296df3a6",
      "f933dc3805704ee7b2caa5d896a7bed9",
      "6110486fa6764b2295f7bf68723d8e68",
      "fe02113090c846b8bce972e5b80abb51",
      "c769933096ae461cb738afdffb9a8871",
      "1a28ae3d7bbd48ae93a0ee8a238b38d8",
      "0822f51eafc44cb6a2e97c551818534a",
      "3721d96d8b9e4e0191f7af20016f5500",
      "e702e1c066bb4baca1861efcaa126a9d",
      "cfe80d8e6f934e758c2fcc8fa298244f",
      "0f12495f33e548849743051e407b111b",
      "c37413b932d842fa877721517904bb12",
      "ca4b1cfbfda241128641cf888f5d3c71"
     ]
    },
    "id": "_n0DGcT8--Lx",
    "outputId": "be62c500-ea31-4879-d33d-eb33ca144836"
   },
   "outputs": [],
   "source": [
    "from transformers import pipeline\n",
    "\n",
    "sent_pipeline = pipeline((\"sentiment-analysis\")) # downloading default embeddings"
   ]
  },
  {
   "cell_type": "code",
   "execution_count": null,
   "id": "36",
   "metadata": {
    "colab": {
     "base_uri": "https://localhost:8080/"
    },
    "id": "b4wnLjXI_AFK",
    "outputId": "9be4dde1-ee36-4331-8eec-c51da6d4f158"
   },
   "outputs": [],
   "source": [
    "sent_pipeline('I love sentiment analysis')"
   ]
  },
  {
   "cell_type": "code",
   "execution_count": null,
   "id": "37",
   "metadata": {
    "colab": {
     "base_uri": "https://localhost:8080/"
    },
    "id": "smlq2-6k_StM",
    "outputId": "d544a593-eafa-4960-9267-39ff402d5b9d"
   },
   "outputs": [],
   "source": [
    "sent_pipeline(example)"
   ]
  },
  {
   "cell_type": "code",
   "execution_count": null,
   "id": "38",
   "metadata": {
    "colab": {
     "base_uri": "https://localhost:8080/",
     "height": 140,
     "referenced_widgets": [
      "6ad60d5b46ed477b9d847b9fea802908",
      "999fc7a199684730a919697f46c290b6",
      "07b250e8db49471d92000c607da730a1",
      "548a2a0302e34af29eeb74750ad0d93e",
      "056c60eaeb444380b569d82f54f80fc3",
      "c82365d1aaf74e7494ded26a1ea7771c",
      "9dce7badb44a43bca3b0f8b744357ba4",
      "1c6aca9b04aa40a08a832baf2d82db5c",
      "569f2a0860794286bd35a0f6def137e4",
      "a40c7911d9264be981706d2f8498296f",
      "9305deab51e6467892a2f648b29832ff"
     ]
    },
    "id": "aB-PazUH_Xjk",
    "outputId": "e4aa47fe-142c-46cc-858d-c2afea30ab99"
   },
   "outputs": [],
   "source": [
    "# Run the Transformer Pipeline on the entire dataset\n",
    "res = {}\n",
    "for i, row in tqdm(df.iterrows(), total=len(df)):\n",
    "  try:\n",
    "      text = row[\"Text\"]\n",
    "      myId = row[\"Id\"]\n",
    "\n",
    "      transformer_raw = sent_pipeline(text)[0]\n",
    "      transformer_result = {\n",
    "            'transformer_label': transformer_raw['label'],\n",
    "            'transformer_score': transformer_raw['score']\n",
    "      }\n",
    "\n",
    "      roberta_result = polarity_scores_roberta(text)\n",
    "      both = {**roberta_result, **transformer_result}\n",
    "      res[myId] = both\n",
    "  except RuntimeError:\n",
    "      print(\"Broke for id\")"
   ]
  },
  {
   "cell_type": "code",
   "execution_count": null,
   "id": "39",
   "metadata": {
    "id": "H43aBz7r_2Lj"
   },
   "outputs": [],
   "source": [
    "new_results_df = pd.DataFrame(res).T\n",
    "new_results_df = new_results_df.reset_index().rename(columns = {'index':'Id'})\n",
    "merged_df = pd.merge(df, new_results_df, on='Id', how='left')"
   ]
  },
  {
   "cell_type": "code",
   "execution_count": null,
   "id": "40",
   "metadata": {
    "colab": {
     "base_uri": "https://localhost:8080/"
    },
    "id": "moLjbWhw_3om",
    "outputId": "c7e5ce08-a314-4199-cf71-ce4b9a843ac0"
   },
   "outputs": [],
   "source": [
    "new_results_df.columns"
   ]
  },
  {
   "cell_type": "code",
   "execution_count": null,
   "id": "41",
   "metadata": {
    "colab": {
     "base_uri": "https://localhost:8080/",
     "height": 450
    },
    "id": "Gh-cdrB4BAff",
    "outputId": "72df82a2-48cb-41c3-dbd8-7039b846fe91"
   },
   "outputs": [],
   "source": [
    "sns.scatterplot(data=merged_df, x='roberta_pos', y='transformer_score', hue='Score')\n",
    "plt.show()"
   ]
  }
 ],
 "metadata": {
  "accelerator": "GPU",
  "colab": {
   "gpuType": "T4",
   "provenance": [],
   "toc_visible": true
  },
  "kernelspec": {
   "display_name": "nltk-venv",
   "language": "python",
   "name": "python3"
  },
  "language_info": {
   "codemirror_mode": {
    "name": "ipython",
    "version": 3
   },
   "file_extension": ".py",
   "mimetype": "text/x-python",
   "name": "python",
   "nbconvert_exporter": "python",
   "pygments_lexer": "ipython3",
   "version": "3.13.2"
  }
 },
 "nbformat": 4,
 "nbformat_minor": 5
}
