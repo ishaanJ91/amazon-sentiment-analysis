{
 "cells": [
  {
   "cell_type": "code",
   "execution_count": null,
   "id": "0",
   "metadata": {
    "colab": {
     "base_uri": "https://localhost:8080/"
    },
    "id": "2f4b3ea1",
    "outputId": "614dbb24-655d-4458-e9bb-38d5a7500319"
   },
   "outputs": [],
   "source": [
    "import pandas as pd\n",
    "import numpy as np\n",
    "import seaborn as sns\n",
    "import matplotlib.pyplot as plt\n",
    "import nltk\n",
    "\n",
    "\n",
    "nltk.download('punkt_tab')\n",
    "nltk.download('vader_lexicon')\n",
    "nltk.download('averaged_perceptron_tagger_eng')\n",
    "nltk.download('maxent_ne_chunker_tab')\n",
    "nltk.download('words')\n",
    "nltk.download('stopwords')\n",
    "nltk.download('wordnet')"
   ]
  },
  {
   "cell_type": "code",
   "execution_count": null,
   "id": "1",
   "metadata": {
    "id": "97daece6"
   },
   "outputs": [],
   "source": [
    "# Read the data\n",
    "df = pd.read_csv('Reviews.csv')"
   ]
  },
  {
   "cell_type": "code",
   "execution_count": null,
   "id": "2",
   "metadata": {
    "colab": {
     "base_uri": "https://localhost:8080/"
    },
    "id": "3603deb8",
    "outputId": "61e89f8b-98c6-43c9-ad48-63daba77a0de"
   },
   "outputs": [],
   "source": [
    "df.head()\n",
    "print(df.shape)\n",
    "df = df.head(500)\n",
    "print(df.shape)"
   ]
  },
  {
   "cell_type": "markdown",
   "id": "3",
   "metadata": {
    "id": "b60ddd65"
   },
   "source": [
    "## Quick EDA"
   ]
  },
  {
   "cell_type": "code",
   "execution_count": null,
   "id": "4",
   "metadata": {
    "colab": {
     "base_uri": "https://localhost:8080/",
     "height": 482
    },
    "id": "5155cb49",
    "outputId": "f34ac9ee-108a-4898-8e44-46b7df3951b0"
   },
   "outputs": [],
   "source": [
    "ax = df['Score'].value_counts().sort_index() \\\n",
    "    .plot(kind='bar', title='Count of Reviews by Score', figsize=(10, 5))\n",
    "ax.set_xlabel('Review Stars')\n",
    "plt.show()"
   ]
  },
  {
   "cell_type": "markdown",
   "id": "5",
   "metadata": {
    "id": "52baa9ca"
   },
   "source": [
    "## Basic NLTK"
   ]
  },
  {
   "cell_type": "code",
   "execution_count": null,
   "id": "6",
   "metadata": {
    "colab": {
     "base_uri": "https://localhost:8080/"
    },
    "id": "1278fcf9",
    "outputId": "3b78fa1f-d53e-4bb5-ed02-49c1844d46ff"
   },
   "outputs": [],
   "source": [
    "example = df['Text'][50]\n",
    "print(example)"
   ]
  },
  {
   "cell_type": "code",
   "execution_count": null,
   "id": "7",
   "metadata": {
    "colab": {
     "base_uri": "https://localhost:8080/"
    },
    "id": "af3ef7bf",
    "outputId": "0d0a6530-f0d9-4019-e4a5-eb9ec2c77ee8"
   },
   "outputs": [],
   "source": [
    "tokens = nltk.word_tokenize(example)\n",
    "print(tokens)"
   ]
  },
  {
   "cell_type": "code",
   "execution_count": null,
   "id": "8",
   "metadata": {
    "colab": {
     "base_uri": "https://localhost:8080/"
    },
    "id": "b5dbd6ff",
    "outputId": "4f8278c9-f773-499c-8f19-82503e2bcf69"
   },
   "outputs": [],
   "source": [
    "tagged = nltk.pos_tag(tokens)\n",
    "print(tagged)"
   ]
  },
  {
   "cell_type": "code",
   "execution_count": null,
   "id": "9",
   "metadata": {
    "colab": {
     "base_uri": "https://localhost:8080/"
    },
    "id": "46d7cdb4",
    "outputId": "74835043-46f5-4539-883d-464667bd2665"
   },
   "outputs": [],
   "source": [
    "entities = nltk.chunk.ne_chunk(tagged)\n",
    "entities.pprint()"
   ]
  },
  {
   "cell_type": "markdown",
   "id": "10",
   "metadata": {
    "id": "73d1669c"
   },
   "source": [
    "## VADER Sentiment Scoring"
   ]
  },
  {
   "cell_type": "code",
   "execution_count": null,
   "id": "11",
   "metadata": {
    "id": "XOxSGNc_jmkN"
   },
   "outputs": [],
   "source": [
    "from nltk.sentiment import SentimentIntensityAnalyzer\n",
    "from tqdm.notebook import tqdm\n",
    "\n",
    "sia = SentimentIntensityAnalyzer()"
   ]
  },
  {
   "cell_type": "code",
   "execution_count": null,
   "id": "12",
   "metadata": {
    "colab": {
     "base_uri": "https://localhost:8080/"
    },
    "id": "6O6IqyDLlB_S",
    "outputId": "d3b066f6-3c22-46ef-bc55-35808c192ae7"
   },
   "outputs": [],
   "source": [
    "sia.polarity_scores(example)"
   ]
  },
  {
   "cell_type": "code",
   "execution_count": null,
   "id": "13",
   "metadata": {
    "colab": {
     "base_uri": "https://localhost:8080/",
     "height": 49,
     "referenced_widgets": [
      "83ffc8ba72f4498b89e9c0857c86b467",
      "73971147c3844c20b3729cb68387b18c",
      "e5713f735fe245e789d7eb454a16fbaf",
      "1b8806cbf35045d39ed58c04cb780b68",
      "da15feccd042416a96383c5fcb12d85b",
      "4443b8fb44dd4ef29ee0f1cd72622b8b",
      "9930b8139a004e57b5c90c2028e9009c",
      "52d3e7a0ac4245049e8190ecaa109025",
      "f5514e0d6c2e4d33b821e14a53dbadf7",
      "88a106f7b8304caea622223d2c817106",
      "aae4f4c74ac245d3aedf5a88ee8b0b6b"
     ]
    },
    "id": "QkxTCj4xlEPr",
    "outputId": "be7878ef-cf51-483a-954c-f8af92d369a6"
   },
   "outputs": [],
   "source": [
    "# Run the polarity score on the entire dataset\n",
    "res = {}\n",
    "for i, row in tqdm(df.iterrows(), total=len(df)):\n",
    "    text = row[\"Text\"]\n",
    "    myId = row[\"Id\"]\n",
    "    res[myId] = sia.polarity_scores(text)"
   ]
  },
  {
   "cell_type": "code",
   "execution_count": null,
   "id": "14",
   "metadata": {
    "colab": {
     "base_uri": "https://localhost:8080/"
    },
    "id": "ZsDoF138lEpa",
    "outputId": "3f7ef5d2-c1d2-4c3a-fe20-27b23fe61c43"
   },
   "outputs": [],
   "source": [
    "res"
   ]
  },
  {
   "cell_type": "code",
   "execution_count": null,
   "id": "15",
   "metadata": {
    "id": "LUsmfw5MljaX"
   },
   "outputs": [],
   "source": [
    "vaders = pd.DataFrame(res).T\n",
    "vaders = vaders.reset_index().rename(columns = {'index':'Id'})\n",
    "vaders = vaders.merge(df, how='left')"
   ]
  },
  {
   "cell_type": "code",
   "execution_count": null,
   "id": "16",
   "metadata": {
    "colab": {
     "base_uri": "https://localhost:8080/",
     "height": 695
    },
    "id": "8Z3XfhnulqHP",
    "outputId": "dbf5403e-82bf-45a5-a268-fa2df323e017"
   },
   "outputs": [],
   "source": [
    "# Now we have sentiment score and metadata\n",
    "vaders.head()"
   ]
  },
  {
   "cell_type": "code",
   "execution_count": null,
   "id": "17",
   "metadata": {
    "colab": {
     "base_uri": "https://localhost:8080/",
     "height": 472
    },
    "id": "Or-xkjqmmyKJ",
    "outputId": "12a66714-92a9-4481-95bb-fa4c29501a98"
   },
   "outputs": [],
   "source": [
    "# Plot Vader result\n",
    "ax = sns.barplot(data=vaders, x='Score', y='compound')\n",
    "ax.set_title('Compound Score by Amazon Star Review')\n",
    "plt.show()"
   ]
  },
  {
   "cell_type": "code",
   "execution_count": null,
   "id": "18",
   "metadata": {
    "colab": {
     "base_uri": "https://localhost:8080/",
     "height": 420
    },
    "id": "IJcTFzuXm-O9",
    "outputId": "918216e4-939f-4af1-a500-bfaed3b46950"
   },
   "outputs": [],
   "source": [
    "fig, axs = plt.subplots(1,3, figsize=(15,5))\n",
    "sns.barplot(data=vaders, x='Score', y='pos', ax=axs[0])\n",
    "sns.barplot(data=vaders, x='Score', y='neu', ax=axs[1])\n",
    "sns.barplot(data=vaders, x='Score', y='neg', ax=axs[2])\n",
    "axs[0].set_title('Positive')\n",
    "axs[0].set_title('Neutral')\n",
    "axs[0].set_title('Negative')\n",
    "plt.show()"
   ]
  },
  {
   "cell_type": "markdown",
   "id": "19",
   "metadata": {
    "id": "0ZVBi3YJo67N"
   },
   "source": [
    "## Roberta Pretrained Model\n",
    "\n",
    "\n",
    "\n",
    "*   Use a model trained of a largue corpus model\n",
    "*   Transoformer model accounts for the words but also the context related to other words\n",
    "\n"
   ]
  },
  {
   "cell_type": "code",
   "execution_count": null,
   "id": "20",
   "metadata": {
    "id": "aTEbHMwAn_ba"
   },
   "outputs": [],
   "source": [
    "from transformers import AutoTokenizer\n",
    "from transformers import AutoModelForSequenceClassification\n",
    "from scipy.special import softmax"
   ]
  },
  {
   "cell_type": "code",
   "execution_count": null,
   "id": "21",
   "metadata": {
    "id": "HW42ql1F02eS"
   },
   "outputs": [],
   "source": [
    "MODEL = f\"cardiffnlp/twitter-roberta-base-sentiment\"\n",
    "tokenizer = AutoTokenizer.from_pretrained(MODEL)\n",
    "model = AutoModelForSequenceClassification.from_pretrained(MODEL)"
   ]
  },
  {
   "cell_type": "code",
   "execution_count": null,
   "id": "22",
   "metadata": {
    "colab": {
     "base_uri": "https://localhost:8080/"
    },
    "id": "kHX1uPic1aCX",
    "outputId": "1f770d40-76b4-4ee1-c52a-ebcafa0ea743"
   },
   "outputs": [],
   "source": [
    "# VADE results on example\n",
    "print(example)\n",
    "sia.polarity_scores(example)"
   ]
  },
  {
   "cell_type": "code",
   "execution_count": null,
   "id": "23",
   "metadata": {
    "colab": {
     "base_uri": "https://localhost:8080/"
    },
    "id": "DqFrNwZn1hzD",
    "outputId": "8720a491-d9c2-447d-c6e4-e82fb58c71bb"
   },
   "outputs": [],
   "source": [
    "# Run for Roberta Model\n",
    "encoded_text = tokenizer(example, return_tensors='pt')\n",
    "output = model(**encoded_text)\n",
    "scores = output[0][0].detach().numpy()\n",
    "scores = softmax(scores)\n",
    "scores_dict = {\n",
    "    'roberta_neg' : scores[0],\n",
    "    'roberta_neu' : scores[1],\n",
    "    'roberta_pos' : scores[2]\n",
    "}\n",
    "print(scores_dict)"
   ]
  },
  {
   "cell_type": "code",
   "execution_count": null,
   "id": "24",
   "metadata": {
    "id": "lqDqOegd4YQS"
   },
   "outputs": [],
   "source": [
    "def polarity_scores_roberta(example):\n",
    "  encoded_text = tokenizer(example, return_tensors='pt')\n",
    "  output = model(**encoded_text)\n",
    "  scores = output[0][0].detach().numpy()\n",
    "  scores = softmax(scores)\n",
    "  scores_dict = {\n",
    "      'roberta_neg' : scores[0],\n",
    "      'roberta_neu' : scores[1],\n",
    "      'roberta_pos' : scores[2]\n",
    "  }\n",
    "\n",
    "  return scores_dict"
   ]
  },
  {
   "cell_type": "code",
   "execution_count": null,
   "id": "25",
   "metadata": {
    "colab": {
     "base_uri": "https://localhost:8080/",
     "height": 84,
     "referenced_widgets": [
      "3b5cf523eeee4130806b119af6e584a8",
      "c2168280f7e245fa9ee2869cc13a37dd",
      "e84c9f2192df4d0aa4ca5301608df873",
      "8d8a2787cb0547e088e5f19aed8e0791",
      "b7a23f45565c4405973dfc969d2efba9",
      "59fbae8fd04c488798546a0a6209d510",
      "651b547acbf64c25a010c95a7aef01b9",
      "b55c89c89c3d4ffea7253e5fc2667415",
      "2619d52ee9a746c5a0a5c11a672f577a",
      "32a75fb12ac843198e7390e79f73528e",
      "f8b1ab43f83145679123b2962971be9f"
     ]
    },
    "id": "gE6fJkWP5JK9",
    "outputId": "66fd5307-840f-4d11-b69f-4a5aede5496a"
   },
   "outputs": [],
   "source": [
    "# Run the Roberta Model on the entire dataset\n",
    "res = {}\n",
    "for i, row in tqdm(df.iterrows(), total=len(df)):\n",
    "    try:\n",
    "      text = row[\"Text\"]\n",
    "      myId = row[\"Id\"]\n",
    "\n",
    "      vader_result = sia.polarity_scores(text)\n",
    "      vader_result_rename = {}\n",
    "      for key, value in vader_result.items():\n",
    "        vader_result_rename[f\"vader_{key}\"] = value\n",
    "\n",
    "      roberta_result = polarity_scores_roberta(text)\n",
    "      both = {**vader_result_rename, **roberta_result}\n",
    "\n",
    "      res[myId] = both\n",
    "    except RuntimeError:\n",
    "      print(\"Broke for id\")"
   ]
  },
  {
   "cell_type": "code",
   "execution_count": null,
   "id": "26",
   "metadata": {
    "id": "GHkiJLCI5UhO"
   },
   "outputs": [],
   "source": [
    "results_df = pd.DataFrame(res).T\n",
    "results_df = results_df.reset_index().rename(columns = {'index':'Id'})\n",
    "results_df = results_df.merge(df, how='left')"
   ]
  },
  {
   "cell_type": "markdown",
   "id": "27",
   "metadata": {
    "id": "fpxLxIpc6Z8V"
   },
   "source": [
    "## Compare Scores between Models"
   ]
  },
  {
   "cell_type": "code",
   "execution_count": null,
   "id": "28",
   "metadata": {
    "colab": {
     "base_uri": "https://localhost:8080/"
    },
    "id": "NVmm5MGG6cUi",
    "outputId": "7eca0e71-8fb3-4d2c-d425-dbd7368d2b20"
   },
   "outputs": [],
   "source": [
    "results_df.columns"
   ]
  },
  {
   "cell_type": "code",
   "execution_count": null,
   "id": "29",
   "metadata": {
    "colab": {
     "base_uri": "https://localhost:8080/",
     "height": 1000
    },
    "id": "5ndXiOIL5vNi",
    "outputId": "5b32ba5d-2426-46cc-e82f-52d91db8a3d0"
   },
   "outputs": [],
   "source": [
    "sns.pairplot(data=results_df, vars=['vader_neg', 'vader_neu', 'vader_pos',\n",
    "       'roberta_neg', 'roberta_neu', 'roberta_pos'], hue='Score', palette='tab10')\n",
    "plt.show()"
   ]
  },
  {
   "cell_type": "markdown",
   "id": "30",
   "metadata": {
    "id": "AqYgYB7x7nWu"
   },
   "source": [
    "## Review Examples"
   ]
  },
  {
   "cell_type": "code",
   "execution_count": null,
   "id": "31",
   "metadata": {
    "id": "6GUY1zIQ7Mep"
   },
   "outputs": [],
   "source": [
    "res"
   ]
  }
 ],
 "metadata": {
  "colab": {
   "provenance": []
  },
  "kernelspec": {
   "display_name": "Python 3",
   "language": "python",
   "name": "python3"
  },
  "language_info": {
   "codemirror_mode": {
    "name": "ipython",
    "version": 3
   },
   "file_extension": ".py",
   "mimetype": "text/x-python",
   "name": "python",
   "nbconvert_exporter": "python",
   "pygments_lexer": "ipython3",
   "version": "3.10.6"
  }
 },
 "nbformat": 4,
 "nbformat_minor": 5
}
